{
 "cells": [
  {
   "cell_type": "markdown",
   "id": "47fb962c",
   "metadata": {},
   "source": [
    "### Preparando ambiente para teste"
   ]
  },
  {
   "cell_type": "code",
   "execution_count": null,
   "id": "97fc91ad",
   "metadata": {
    "scrolled": true
   },
   "outputs": [],
   "source": [
    "pip install -r codes/requirements.txt"
   ]
  },
  {
   "cell_type": "code",
   "execution_count": 3,
   "id": "5be83293",
   "metadata": {},
   "outputs": [],
   "source": [
    "from codes.postgres import PostgresDB\n",
    "from codes.bigquery import BigQueryConnector\n",
    "import pandas as pd\n",
    "\n",
    "bigquery_client = BigQueryConnector(\"teste-4i\")"
   ]
  },
  {
   "cell_type": "code",
   "execution_count": 14,
   "id": "d5a2fac0",
   "metadata": {},
   "outputs": [
    {
     "name": "stdout",
     "output_type": "stream",
     "text": [
      "Insert DimAccount in database\n",
      "Insert DimDepartmentGroup in database\n",
      "Insert DimScenario in database\n"
     ]
    }
   ],
   "source": [
    "dim_tables = [\"DimAccount\", \"DimDepartmentGroup\", \"DimScenario\"]\n",
    "\n",
    "for table in dim_tables:\n",
    "    print(f\"Insert {table} in database\")\n",
    "    df_table = pd.read_csv(f\"land/{table}.csv\", sep=\";\")\n",
    "    bigquery_client.save_dataframe(df_table, table, \"Trusted\")\n"
   ]
  },
  {
   "cell_type": "markdown",
   "id": "6237afcf",
   "metadata": {},
   "source": [
    "Como eu usei o BigQuery nesse teste, precisei renomear o campo \"OrganizationName\"\n",
    "pois não é permitido colunas com espaço em seu nome"
   ]
  },
  {
   "cell_type": "code",
   "execution_count": 15,
   "id": "efc175a0",
   "metadata": {},
   "outputs": [
    {
     "name": "stdout",
     "output_type": "stream",
     "text": [
      "Insert DimOrganization in database\n"
     ]
    }
   ],
   "source": [
    "print(\"Insert DimOrganization in database\")\n",
    "df_table = pd.read_csv(\"land/DimOrganization.csv\", sep=\";\")\n",
    "df_table[\"OrganizationName\"] = df_table[\"OrganizationName\"].str.replace(\" \",\"\")\n",
    "bigquery_client.save_dataframe(df_table, \"DimOrganization\", \"Trusted\")"
   ]
  },
  {
   "cell_type": "code",
   "execution_count": 16,
   "id": "ed888f34",
   "metadata": {},
   "outputs": [
    {
     "name": "stdout",
     "output_type": "stream",
     "text": [
      "Insert factFinance in database\n"
     ]
    },
    {
     "name": "stderr",
     "output_type": "stream",
     "text": [
      "/tmp/ipykernel_2544/213729911.py:4: FutureWarning: The default value of regex will change from True to False in a future version.\n",
      "  fact_df[\"Amount\"] = fact_df[\"Amount\"].str.replace(\"R\\$\",\"\")\n"
     ]
    }
   ],
   "source": [
    "fact_table = \"FactFinance\"\n",
    "print(\"Insert factFinance in database\")\n",
    "fact_df = pd.read_csv(f\"land/{fact_table}.csv\", sep=\";\")\n",
    "fact_df[\"Amount\"] = fact_df[\"Amount\"].str.replace(\"R\\$\",\"\")\n",
    "fact_df[\"Amount\"] = fact_df[\"Amount\"].str.replace(\",\",\"\")\n",
    "fact_df[\"Amount\"] = fact_df[\"Amount\"].astype(float)\n",
    "bigquery_client.save_dataframe(fact_df, fact_table, \"Trusted\")"
   ]
  },
  {
   "cell_type": "markdown",
   "id": "18a9e61c",
   "metadata": {},
   "source": [
    "### Resposta 1"
   ]
  },
  {
   "cell_type": "code",
   "execution_count": 17,
   "id": "36645506",
   "metadata": {},
   "outputs": [
    {
     "data": {
      "text/html": [
       "<div>\n",
       "<style scoped>\n",
       "    .dataframe tbody tr th:only-of-type {\n",
       "        vertical-align: middle;\n",
       "    }\n",
       "\n",
       "    .dataframe tbody tr th {\n",
       "        vertical-align: top;\n",
       "    }\n",
       "\n",
       "    .dataframe thead th {\n",
       "        text-align: right;\n",
       "    }\n",
       "</style>\n",
       "<table border=\"1\" class=\"dataframe\">\n",
       "  <thead>\n",
       "    <tr style=\"text-align: right;\">\n",
       "      <th></th>\n",
       "      <th>OrganizationName</th>\n",
       "      <th>DepartmentGroupName</th>\n",
       "      <th>Amount</th>\n",
       "    </tr>\n",
       "  </thead>\n",
       "  <tbody>\n",
       "    <tr>\n",
       "      <th>0</th>\n",
       "      <td>Australia</td>\n",
       "      <td>Sales and Marketing</td>\n",
       "      <td>263278.33</td>\n",
       "    </tr>\n",
       "    <tr>\n",
       "      <th>1</th>\n",
       "      <td>CanadianDivision</td>\n",
       "      <td>Sales and Marketing</td>\n",
       "      <td>65972.22</td>\n",
       "    </tr>\n",
       "    <tr>\n",
       "      <th>2</th>\n",
       "      <td>France</td>\n",
       "      <td>Executive General and Administration</td>\n",
       "      <td>5.01</td>\n",
       "    </tr>\n",
       "    <tr>\n",
       "      <th>3</th>\n",
       "      <td>France</td>\n",
       "      <td>Manufacturing</td>\n",
       "      <td>11.40</td>\n",
       "    </tr>\n",
       "    <tr>\n",
       "      <th>4</th>\n",
       "      <td>France</td>\n",
       "      <td>Inventory Management</td>\n",
       "      <td>15.65</td>\n",
       "    </tr>\n",
       "    <tr>\n",
       "      <th>5</th>\n",
       "      <td>France</td>\n",
       "      <td>Corporate</td>\n",
       "      <td>19.91</td>\n",
       "    </tr>\n",
       "    <tr>\n",
       "      <th>6</th>\n",
       "      <td>Germany</td>\n",
       "      <td>Executive General and Administration</td>\n",
       "      <td>19.91</td>\n",
       "    </tr>\n",
       "    <tr>\n",
       "      <th>7</th>\n",
       "      <td>Germany</td>\n",
       "      <td>Research and Development</td>\n",
       "      <td>58.21</td>\n",
       "    </tr>\n",
       "    <tr>\n",
       "      <th>8</th>\n",
       "      <td>Germany</td>\n",
       "      <td>Corporate</td>\n",
       "      <td>58.96</td>\n",
       "    </tr>\n",
       "  </tbody>\n",
       "</table>\n",
       "</div>"
      ],
      "text/plain": [
       "   OrganizationName                   DepartmentGroupName     Amount\n",
       "0         Australia                   Sales and Marketing  263278.33\n",
       "1  CanadianDivision                   Sales and Marketing   65972.22\n",
       "2            France  Executive General and Administration       5.01\n",
       "3            France                         Manufacturing      11.40\n",
       "4            France                  Inventory Management      15.65\n",
       "5            France                             Corporate      19.91\n",
       "6           Germany  Executive General and Administration      19.91\n",
       "7           Germany              Research and Development      58.21\n",
       "8           Germany                             Corporate      58.96"
      ]
     },
     "execution_count": 17,
     "metadata": {},
     "output_type": "execute_result"
    }
   ],
   "source": [
    "query_1 = '''\n",
    "SELECT \n",
    " do.OrganizationName\n",
    ",ddg.DepartmentGroupName\n",
    ",ROUND(SUM(ff.Amount),2) as Amount \n",
    "FROM Trusted.FactFinance as ff \n",
    "INNER JOIN Trusted.DimOrganization as do on do.OrganizationKey = ff.OrganizationKey\n",
    "INNER JOIN Trusted.DimDepartmentGroup as ddg on ddg.DepartmentGroupKey = ff.DepartmentGroupKey \n",
    "GROUP BY\n",
    " do.OrganizationName\n",
    ",ddg.DepartmentGroupName\n",
    "ORDER BY\n",
    " do.OrganizationName\n",
    ",Amount\n",
    "'''\n",
    "bigquery_client.run_query(query_1)"
   ]
  },
  {
   "cell_type": "markdown",
   "id": "de70c1fa",
   "metadata": {},
   "source": [
    "### Resposta 2"
   ]
  },
  {
   "cell_type": "code",
   "execution_count": 18,
   "id": "d8f8ee42",
   "metadata": {},
   "outputs": [
    {
     "data": {
      "text/html": [
       "<div>\n",
       "<style scoped>\n",
       "    .dataframe tbody tr th:only-of-type {\n",
       "        vertical-align: middle;\n",
       "    }\n",
       "\n",
       "    .dataframe tbody tr th {\n",
       "        vertical-align: top;\n",
       "    }\n",
       "\n",
       "    .dataframe thead th {\n",
       "        text-align: right;\n",
       "    }\n",
       "</style>\n",
       "<table border=\"1\" class=\"dataframe\">\n",
       "  <thead>\n",
       "    <tr style=\"text-align: right;\">\n",
       "      <th></th>\n",
       "      <th>ScenarioName</th>\n",
       "      <th>Amount</th>\n",
       "    </tr>\n",
       "  </thead>\n",
       "  <tbody>\n",
       "    <tr>\n",
       "      <th>0</th>\n",
       "      <td>Actual</td>\n",
       "      <td>329439.6</td>\n",
       "    </tr>\n",
       "    <tr>\n",
       "      <th>1</th>\n",
       "      <td>Budget</td>\n",
       "      <td>0.0</td>\n",
       "    </tr>\n",
       "    <tr>\n",
       "      <th>2</th>\n",
       "      <td>Forecast</td>\n",
       "      <td>0.0</td>\n",
       "    </tr>\n",
       "  </tbody>\n",
       "</table>\n",
       "</div>"
      ],
      "text/plain": [
       "  ScenarioName    Amount\n",
       "0       Actual  329439.6\n",
       "1       Budget       0.0\n",
       "2     Forecast       0.0"
      ]
     },
     "execution_count": 18,
     "metadata": {},
     "output_type": "execute_result"
    }
   ],
   "source": [
    "query_2 = '''\n",
    "SELECT \n",
    " ds.ScenarioName\n",
    ",IFNULL(SUM(ff.Amount),0) as Amount \n",
    "FROM Trusted.DimScenario as ds \n",
    "LEFT JOIN Trusted.FactFinance as ff  on ff.ScenarioKey = ds.ScenarioKey \n",
    "GROUP BY\n",
    " ds.ScenarioName\n",
    "ORDER BY\n",
    " Amount desc\n",
    "'''\n",
    "bigquery_client.run_query(query_2)"
   ]
  },
  {
   "cell_type": "markdown",
   "id": "91c9c92b",
   "metadata": {},
   "source": [
    "### Resposta 3"
   ]
  },
  {
   "cell_type": "code",
   "execution_count": 19,
   "id": "5e232e19",
   "metadata": {},
   "outputs": [
    {
     "data": {
      "text/html": [
       "<div>\n",
       "<style scoped>\n",
       "    .dataframe tbody tr th:only-of-type {\n",
       "        vertical-align: middle;\n",
       "    }\n",
       "\n",
       "    .dataframe tbody tr th {\n",
       "        vertical-align: top;\n",
       "    }\n",
       "\n",
       "    .dataframe thead th {\n",
       "        text-align: right;\n",
       "    }\n",
       "</style>\n",
       "<table border=\"1\" class=\"dataframe\">\n",
       "  <thead>\n",
       "    <tr style=\"text-align: right;\">\n",
       "      <th></th>\n",
       "      <th>ParentAccountDescription</th>\n",
       "      <th>ParentAccountKey</th>\n",
       "      <th>AccountDescription</th>\n",
       "      <th>AccountKey</th>\n",
       "    </tr>\n",
       "  </thead>\n",
       "  <tbody>\n",
       "    <tr>\n",
       "      <th>0</th>\n",
       "      <td>Long Term Liabilities</td>\n",
       "      <td>36</td>\n",
       "      <td>Other Long Term Liabilities</td>\n",
       "      <td>40</td>\n",
       "    </tr>\n",
       "    <tr>\n",
       "      <th>1</th>\n",
       "      <td>Gross Margin</td>\n",
       "      <td>49</td>\n",
       "      <td>Net Sales</td>\n",
       "      <td>50</td>\n",
       "    </tr>\n",
       "    <tr>\n",
       "      <th>2</th>\n",
       "      <td>Net Sales</td>\n",
       "      <td>50</td>\n",
       "      <td>Gross Sales</td>\n",
       "      <td>51</td>\n",
       "    </tr>\n",
       "    <tr>\n",
       "      <th>3</th>\n",
       "      <td>Net Sales</td>\n",
       "      <td>50</td>\n",
       "      <td>Returns and Adjustments</td>\n",
       "      <td>53</td>\n",
       "    </tr>\n",
       "    <tr>\n",
       "      <th>4</th>\n",
       "      <td>Net Sales</td>\n",
       "      <td>50</td>\n",
       "      <td>Discounts</td>\n",
       "      <td>54</td>\n",
       "    </tr>\n",
       "    <tr>\n",
       "      <th>5</th>\n",
       "      <td>Statistical Accounts</td>\n",
       "      <td>95</td>\n",
       "      <td>Square Footage</td>\n",
       "      <td>99</td>\n",
       "    </tr>\n",
       "  </tbody>\n",
       "</table>\n",
       "</div>"
      ],
      "text/plain": [
       "  ParentAccountDescription  ParentAccountKey           AccountDescription  \\\n",
       "0    Long Term Liabilities                36  Other Long Term Liabilities   \n",
       "1             Gross Margin                49                    Net Sales   \n",
       "2                Net Sales                50                  Gross Sales   \n",
       "3                Net Sales                50      Returns and Adjustments   \n",
       "4                Net Sales                50                    Discounts   \n",
       "5     Statistical Accounts                95               Square Footage   \n",
       "\n",
       "   AccountKey  \n",
       "0          40  \n",
       "1          50  \n",
       "2          51  \n",
       "3          53  \n",
       "4          54  \n",
       "5          99  "
      ]
     },
     "execution_count": 19,
     "metadata": {},
     "output_type": "execute_result"
    }
   ],
   "source": [
    "query_3 = '''\n",
    "SELECT \n",
    " dap.AccountDescription as ParentAccountDescription\n",
    ",dap.AccountKey as ParentAccountKey\n",
    ",da.AccountDescription\n",
    ",da.AccountKey\n",
    "FROM Trusted.DimAccount as da \n",
    "INNER JOIN Trusted.DimAccount as dap  on dap.AccountKey = da.ParentAccountKey \n",
    "ORDER BY\n",
    "ParentAccountKey\n",
    ",AccountKey\n",
    "'''\n",
    "bigquery_client.run_query(query_3)"
   ]
  },
  {
   "cell_type": "markdown",
   "id": "ae7b935d",
   "metadata": {},
   "source": [
    "### Resposta 4"
   ]
  },
  {
   "cell_type": "code",
   "execution_count": 20,
   "id": "9dd25428",
   "metadata": {},
   "outputs": [
    {
     "data": {
      "text/html": [
       "<div>\n",
       "<style scoped>\n",
       "    .dataframe tbody tr th:only-of-type {\n",
       "        vertical-align: middle;\n",
       "    }\n",
       "\n",
       "    .dataframe tbody tr th {\n",
       "        vertical-align: top;\n",
       "    }\n",
       "\n",
       "    .dataframe thead th {\n",
       "        text-align: right;\n",
       "    }\n",
       "</style>\n",
       "<table border=\"1\" class=\"dataframe\">\n",
       "  <thead>\n",
       "    <tr style=\"text-align: right;\">\n",
       "      <th></th>\n",
       "      <th>DepartmentGroupName</th>\n",
       "      <th>Australia</th>\n",
       "      <th>CanadianDivision</th>\n",
       "      <th>France</th>\n",
       "      <th>Germany</th>\n",
       "    </tr>\n",
       "  </thead>\n",
       "  <tbody>\n",
       "    <tr>\n",
       "      <th>0</th>\n",
       "      <td>Corporate</td>\n",
       "      <td>NaN</td>\n",
       "      <td>NaN</td>\n",
       "      <td>19.91</td>\n",
       "      <td>58.96</td>\n",
       "    </tr>\n",
       "    <tr>\n",
       "      <th>1</th>\n",
       "      <td>Executive General and Administration</td>\n",
       "      <td>NaN</td>\n",
       "      <td>NaN</td>\n",
       "      <td>5.01</td>\n",
       "      <td>19.91</td>\n",
       "    </tr>\n",
       "    <tr>\n",
       "      <th>2</th>\n",
       "      <td>Inventory Management</td>\n",
       "      <td>NaN</td>\n",
       "      <td>NaN</td>\n",
       "      <td>15.65</td>\n",
       "      <td>NaN</td>\n",
       "    </tr>\n",
       "    <tr>\n",
       "      <th>3</th>\n",
       "      <td>Manufacturing</td>\n",
       "      <td>NaN</td>\n",
       "      <td>NaN</td>\n",
       "      <td>11.40</td>\n",
       "      <td>NaN</td>\n",
       "    </tr>\n",
       "    <tr>\n",
       "      <th>4</th>\n",
       "      <td>Research and Development</td>\n",
       "      <td>NaN</td>\n",
       "      <td>NaN</td>\n",
       "      <td>NaN</td>\n",
       "      <td>58.21</td>\n",
       "    </tr>\n",
       "    <tr>\n",
       "      <th>5</th>\n",
       "      <td>Sales and Marketing</td>\n",
       "      <td>263278.33</td>\n",
       "      <td>65972.22</td>\n",
       "      <td>NaN</td>\n",
       "      <td>NaN</td>\n",
       "    </tr>\n",
       "  </tbody>\n",
       "</table>\n",
       "</div>"
      ],
      "text/plain": [
       "                    DepartmentGroupName  Australia  CanadianDivision  France  \\\n",
       "0                             Corporate        NaN               NaN   19.91   \n",
       "1  Executive General and Administration        NaN               NaN    5.01   \n",
       "2                  Inventory Management        NaN               NaN   15.65   \n",
       "3                         Manufacturing        NaN               NaN   11.40   \n",
       "4              Research and Development        NaN               NaN     NaN   \n",
       "5                   Sales and Marketing  263278.33          65972.22     NaN   \n",
       "\n",
       "   Germany  \n",
       "0    58.96  \n",
       "1    19.91  \n",
       "2      NaN  \n",
       "3      NaN  \n",
       "4    58.21  \n",
       "5      NaN  "
      ]
     },
     "execution_count": 20,
     "metadata": {},
     "output_type": "execute_result"
    }
   ],
   "source": [
    "query_4 = \"\"\"\n",
    "execute immediate (             \n",
    "  SELECT '''\n",
    "    SELECT * \n",
    "    FROM (\n",
    "      SELECT \n",
    "      ddg.DepartmentGroupName\n",
    "      ,do.OrganizationName\n",
    "      ,SUM(ff.Amount) AS Amount\n",
    "      FROM Trusted.FactFinance AS ff \n",
    "      INNER JOIN Trusted.DimDepartmentGroup as ddg on ddg.DepartmentGroupKey = ff.DepartmentGroupKey \n",
    "      INNER JOIN Trusted.DimOrganization as do on do.OrganizationKey = ff.OrganizationKey\n",
    "      GROUP BY \n",
    "      ddg.DepartmentGroupName\n",
    "      , do.OrganizationName\n",
    "      \n",
    "    )\n",
    "    PIVOT(\n",
    "      SUM(Amount) \n",
    "      FOR OrganizationName \n",
    "      IN (\"''' ||  STRING_AGG(DISTINCT OrganizationName, '\", \"' ORDER BY OrganizationName)  || '''\"))\n",
    "  '''\n",
    "      from ( \n",
    "        SELECT \n",
    "        ddg.DepartmentGroupName\n",
    "        ,do.OrganizationName\n",
    "        ,SUM(ff.Amount) AS Amount\n",
    "        FROM Trusted.FactFinance AS ff \n",
    "        INNER JOIN Trusted.DimDepartmentGroup AS ddg ON ddg.DepartmentGroupKey = ff.DepartmentGroupKey \n",
    "        INNER JOIN Trusted.DimOrganization AS do ON do.OrganizationKey = ff.OrganizationKey\n",
    "        GROUP BY \n",
    "        ddg.DepartmentGroupName\n",
    "        , do.OrganizationName)  column_names \n",
    "      ) \n",
    "\n",
    ";\n",
    "\n",
    "\n",
    "\"\"\"\n",
    "bigquery_client.run_query(query_4)"
   ]
  },
  {
   "cell_type": "code",
   "execution_count": null,
   "id": "8b38ec56",
   "metadata": {},
   "outputs": [],
   "source": []
  }
 ],
 "metadata": {
  "kernelspec": {
   "display_name": "Python 3 (ipykernel)",
   "language": "python",
   "name": "python3"
  },
  "language_info": {
   "codemirror_mode": {
    "name": "ipython",
    "version": 3
   },
   "file_extension": ".py",
   "mimetype": "text/x-python",
   "name": "python",
   "nbconvert_exporter": "python",
   "pygments_lexer": "ipython3",
   "version": "3.10.9"
  }
 },
 "nbformat": 4,
 "nbformat_minor": 5
}
