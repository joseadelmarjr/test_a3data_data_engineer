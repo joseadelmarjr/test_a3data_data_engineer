{
 "cells": [
  {
   "cell_type": "markdown",
   "metadata": {
    "id": "LVSy2BqsaSkj"
   },
   "source": [
    "# Setup Geral\n",
    "\n",
    "Se estiver executando este exercício no Google Colab, execute as próximas duas células. \n",
    "\n",
    "Caso esteja executando localmente, não é necessário executar mas certifique-se de que o **pyspark** está instalado e configurado em sua máquina."
   ]
  },
  {
   "cell_type": "code",
   "execution_count": null,
   "metadata": {
    "id": "NHPXuknHZ5Az"
   },
   "outputs": [],
   "source": [
    "%%bash\n",
    "\n",
    "# Instal Java\n",
    "apt-get update && apt-get install openjdk-8-jdk-headless -qq > /dev/null\n",
    "\n",
    "# Install PySpark\n",
    "pip install -q pyspark"
   ]
  },
  {
   "cell_type": "code",
   "execution_count": null,
   "metadata": {
    "id": "4dY12q0raXtc"
   },
   "outputs": [],
   "source": [
    "import os\n",
    "os.environ['JAVA_HOME'] = '/usr/lib/jvm/java-8-openjdk-amd64'\n",
    "\n",
    "from pyspark.sql import SparkSession\n",
    "\n",
    "spark = SparkSession.builder.master(\"local[*]\").getOrCreate()"
   ]
  },
  {
   "cell_type": "markdown",
   "metadata": {
    "id": "pZZMC5QPae-Z"
   },
   "source": [
    "# Teste\n",
    "\n",
    "O teste a ser realizado é composto de 3 partes:\n",
    "\n",
    "- um exercício de programação em Python\n",
    "- alguns exercícios de programação em SQL\n",
    "- alguns exercícios de programação com PySpark\n",
    "\n",
    "Você pode escolher qual das partes do exercício vai fazer primeiro. Todo o exercício deve ser completado no período de 48 horas."
   ]
  },
  {
   "cell_type": "markdown",
   "metadata": {
    "id": "YUB8S5fKciHv"
   },
   "source": [
    "# Python"
   ]
  },
  {
   "cell_type": "code",
   "execution_count": 7,
   "metadata": {
    "id": "2F8f5Z1scgUP"
   },
   "outputs": [],
   "source": [
    "# SETUP\n",
    "nomes_alunos = [\n",
    "    ('Maria', 1),\n",
    "    ('João', 2),\n",
    "    ('Pedro', 3),\n",
    "    ('Gabriella', 4),\n",
    "    ('Giovana', 5),\n",
    "    ('Arthur', 6)\n",
    "]\n",
    "\n",
    "notas_alunos = {\n",
    "    1: 9.5,\n",
    "    2: 5.1,\n",
    "    3: 8.7,\n",
    "    4: 7.1,\n",
    "    5: 4.8,\n",
    "    6: 6.3\n",
    "}"
   ]
  },
  {
   "cell_type": "markdown",
   "metadata": {
    "id": "ApIQ4JqjcsnC"
   },
   "source": [
    "Implemente uma função que recebe uma lista de nomes de alunos, um dicionário de notas dos mesmo, sendo que essas estruturas se relacionam por um ID.\n",
    "\n",
    "A função deve retornar em ordem alfabética, o nome dos alunos que obtiveram notas maior ou igual de uma nota de corte informada."
   ]
  },
  {
   "cell_type": "code",
   "execution_count": 8,
   "metadata": {
    "id": "ISnDoCWucpHC"
   },
   "outputs": [
    {
     "data": {
      "text/plain": [
       "['Arthur', 'Gabriella', 'Maria', 'Pedro']"
      ]
     },
     "execution_count": 8,
     "metadata": {},
     "output_type": "execute_result"
    }
   ],
   "source": [
    "def filtra_alunos_acima_corte(alunos, notas, nota_corte):\n",
    "\n",
    "    import logging\n",
    "\n",
    "    logger = logging.getLogger()\n",
    "    logger.setLevel(logging.INFO)\n",
    "\n",
    "    \n",
    "    try:\n",
    "        if not __valida_variaveis_alunos_acima_corte(alunos, notas, nota_corte):\n",
    "            return []\n",
    "\n",
    "    except NameError:\n",
    "        logging.warning(\"Adicionei uma checagem das variáveis ao teste, se for válido no teste, por favor executar a célula abaixo para sua criação\")\n",
    "\n",
    "                        \n",
    "    dict_notas_aprovadas = dict(filter(lambda aluno: aluno[1] >= nota_corte, notas_alunos.items()))\n",
    "\n",
    "    if not dict_notas_aprovadas:\n",
    "        logging.warning(\"Nao temos alunos aprovados.\")\n",
    "        return []\n",
    "\n",
    "    \n",
    "    id_notas_aprovadas = list(dict_notas_aprovadas.keys())\n",
    "    alunos_aprovados = list(filter(lambda x: x[1] in id_notas_aprovadas, alunos))\n",
    "\n",
    "    if len(alunos_aprovados) < len(id_notas_aprovadas):\n",
    "        logging.warning(\"Algum id de aluno aprovado não foi encontrado.\")\n",
    "    \n",
    "    nome_alunos_aprovados = list(map(lambda x: x[0], alunos_aprovados))\n",
    "    \n",
    "    nome_alunos_aprovados.sort()\n",
    "    \n",
    "    return nome_alunos_aprovados\n",
    "\n",
    "    \n",
    "filtra_alunos_acima_corte(nomes_alunos, notas_alunos, 6)"
   ]
  },
  {
   "cell_type": "code",
   "execution_count": 3,
   "metadata": {},
   "outputs": [],
   "source": [
    "def __valida_variaveis_alunos_acima_corte(alunos, notas, nota_corte):\n",
    "\n",
    "    import logging\n",
    "\n",
    "    logger = logging.getLogger()\n",
    "    logger.setLevel(logging.INFO)\n",
    "    \n",
    "    \n",
    "    if not isinstance(alunos, (list)):\n",
    "        logging.error(\"Não recebemos uma lista de alunos.\")\n",
    "        return False\n",
    "\n",
    "\n",
    "    elif not all(map(lambda x: \n",
    "                     isinstance(x, tuple) and \n",
    "                     len(x) == 2 and \n",
    "                     isinstance(x[0], str) and\n",
    "                     isinstance(x[1], int), alunos)\n",
    "                ):\n",
    "        logging.error(\"O formato dos alunos enviados não está no padrão esperado. O padrão correto é ('nome_aluno',10)\")\n",
    "        return False\n",
    "\n",
    "\n",
    "    if not isinstance(notas, (dict)):\n",
    "        logging.error(\"Não recebemos um dicionário de notas.\")\n",
    "        return False\n",
    "\n",
    "\n",
    "    if not all(map(lambda x: isinstance(x, (int)), notas.keys())) \\\n",
    "    or not all(map(lambda x: isinstance(x, (int, float)), notas.values())):\n",
    "        logging.error(\"As notas enviadas não estão no padrão esperado. O padrão correto é {1:10} sendo o id do aluno e sua nota, respectivamente.\")\n",
    "        return False\n",
    "\n",
    "    \n",
    "    if not isinstance(nota_corte, (int, float)):\n",
    "        logging.error(\"Nota de corte inválida. É esperado um valor numérico (inteiro ou decimal).\")\n",
    "        return False\n",
    "    \n",
    "    return True\n"
   ]
  },
  {
   "cell_type": "markdown",
   "metadata": {
    "id": "4iYs_aWqdXrh"
   },
   "source": [
    "# SQL"
   ]
  },
  {
   "cell_type": "markdown",
   "metadata": {
    "id": "mbIq-A9-gXdw"
   },
   "source": [
    "**Setup**\n"
   ]
  },
  {
   "cell_type": "code",
   "execution_count": null,
   "metadata": {
    "id": "DOG9FO83dlSe"
   },
   "outputs": [],
   "source": [
    "%%bash\n",
    "mkdir bases_teste\n",
    "curl https://raw.githubusercontent.com/A3Data/bases_testes/main/bases_teste/produtos.csv -o bases_teste/produtos.csv\n",
    "curl https://raw.githubusercontent.com/A3Data/bases_testes/main/bases_teste/vendas.csv -o bases_teste/vendas.csv\n",
    "curl https://raw.githubusercontent.com/A3Data/bases_testes/main/bases_teste/usuarios.csv -o bases_teste/usuarios.csv"
   ]
  },
  {
   "cell_type": "code",
   "execution_count": null,
   "metadata": {
    "id": "kHkTwPZmfV2t"
   },
   "outputs": [],
   "source": [
    "# Setup Spark Session\n",
    "from pyspark.sql import SparkSession\n",
    "spark = SparkSession.builder.appName(\"AtividadeSQL\").getOrCreate()"
   ]
  },
  {
   "cell_type": "code",
   "execution_count": null,
   "metadata": {
    "id": "3kb1a6CwgSVd"
   },
   "outputs": [],
   "source": [
    "def cria_tabela(path, nome_tabela):\n",
    "    df = spark.read.csv(path, inferSchema=True, header=True)\n",
    "    df.createOrReplaceTempView(nome_tabela)\n",
    "    return df\n",
    "\n",
    "usuarios = cria_tabela(\"bases_teste/usuarios.csv\", \"usuarios\")\n",
    "produtos = cria_tabela(\"bases_teste/produtos.csv\", \"produtos\")\n",
    "vendas = cria_tabela(\"bases_teste/vendas.csv\", \"vendas\")"
   ]
  },
  {
   "cell_type": "markdown",
   "metadata": {
    "id": "6N5gLPYEg27q"
   },
   "source": [
    "**Função para execução de queries**"
   ]
  },
  {
   "cell_type": "code",
   "execution_count": null,
   "metadata": {
    "id": "HtpEu2utg5Pb"
   },
   "outputs": [],
   "source": [
    "def q(query, n=30):\n",
    "    return spark.sql(query).show(n=n, truncate=False)"
   ]
  },
  {
   "cell_type": "markdown",
   "metadata": {
    "id": "s84UzyTqg9lH"
   },
   "source": [
    "Para executar alguma consulta, basta colocar seu código sql dentro da função q como no exemplo abaixo:\n",
    "\n",
    "```python\n",
    "q(\"\"\"\n",
    "    SELECT *\n",
    "    FROM usuarios\n",
    "\"\"\")\n",
    "```\n",
    "\n",
    "e o resultado será exibido na tela.\n",
    "\n",
    "---\n",
    "\n",
    "Nesta parte da atividade, você vai trabalhar com três tabelas:\n",
    "\n",
    "- produtos\n",
    "- usuarios\n",
    "- vendas\n",
    "\n",
    "Use-as para responder às perguntas a seguir."
   ]
  },
  {
   "cell_type": "markdown",
   "metadata": {
    "id": "Kxzvs2rVoxGk"
   },
   "source": [
    "1) Qual foi a quantidade de vendas nos estados de Minas Gerais e São Paulo para cada ano e mês?"
   ]
  },
  {
   "cell_type": "code",
   "execution_count": null,
   "metadata": {
    "id": "eLe62-JehCDO"
   },
   "outputs": [],
   "source": []
  },
  {
   "cell_type": "markdown",
   "metadata": {
    "id": "xzD4NiqHplgI"
   },
   "source": [
    "2) Quais são os usuários por Estado que mais compraram em todo o período analisado e qual foi o número de compras realizadas, a quantidade total de itens comprados e valor total pago por usuário?"
   ]
  },
  {
   "cell_type": "code",
   "execution_count": null,
   "metadata": {
    "id": "bVV3Gnthp5hT"
   },
   "outputs": [],
   "source": []
  },
  {
   "cell_type": "markdown",
   "metadata": {
    "id": "Rx53Cl5Xp6TV"
   },
   "source": [
    "3) Quais são os usuários que não fizeram nenhuma compra?"
   ]
  },
  {
   "cell_type": "code",
   "execution_count": null,
   "metadata": {
    "id": "POtsi6dPq9-K"
   },
   "outputs": [],
   "source": []
  },
  {
   "cell_type": "markdown",
   "metadata": {
    "id": "JMfPmlvJq-vq"
   },
   "source": [
    "4) Qual é o ticket médio (média de valor gasto) e o número total de usuários que fizeram pelo menos uma compra por faixa etária?"
   ]
  },
  {
   "cell_type": "code",
   "execution_count": null,
   "metadata": {
    "id": "2wmU9pLbrMg3"
   },
   "outputs": [],
   "source": []
  },
  {
   "cell_type": "code",
   "execution_count": null,
   "metadata": {
    "id": "3zzx4TnTJ0ck"
   },
   "outputs": [],
   "source": [
    "spark.stop()"
   ]
  },
  {
   "cell_type": "markdown",
   "metadata": {
    "id": "YsxnKyHTr9ZQ"
   },
   "source": [
    "# PySpark"
   ]
  },
  {
   "cell_type": "markdown",
   "metadata": {
    "id": "IHTFrsFRKENk"
   },
   "source": [
    "**setup**:"
   ]
  },
  {
   "cell_type": "code",
   "execution_count": null,
   "metadata": {
    "id": "ExrbmwGPJ74k"
   },
   "outputs": [],
   "source": [
    "%%bash\n",
    "mkdir bases_teste\n",
    "curl https://raw.githubusercontent.com/A3Data/bases_testes/main/bases_teste/produtos.csv -o bases_teste/produtos.csv\n",
    "curl https://raw.githubusercontent.com/A3Data/bases_testes/main/bases_teste/vendas.csv -o bases_teste/vendas.csv\n",
    "curl https://raw.githubusercontent.com/A3Data/bases_testes/main/bases_teste/usuarios.csv -o bases_teste/usuarios.csv"
   ]
  },
  {
   "cell_type": "code",
   "execution_count": null,
   "metadata": {
    "id": "1iMZB37mJ74k"
   },
   "outputs": [],
   "source": [
    "# Setup Spark Session\n",
    "from pyspark.sql import SparkSession\n",
    "spark = SparkSession.builder.appName(\"AtividadeSQL\").getOrCreate()"
   ]
  },
  {
   "cell_type": "code",
   "execution_count": null,
   "metadata": {
    "id": "5wjdDd3tJ74l"
   },
   "outputs": [],
   "source": [
    "def cria_tabela(path, nome_tabela):\n",
    "    df = spark.read.csv(path, inferSchema=True, header=True)\n",
    "    df.createOrReplaceTempView(nome_tabela)\n",
    "    return df\n",
    "\n",
    "usuarios = cria_tabela(\"bases_teste/usuarios.csv\", \"usuarios\")\n",
    "produtos = cria_tabela(\"bases_teste/produtos.csv\", \"produtos\")\n",
    "vendas = cria_tabela(\"bases_teste/vendas.csv\", \"vendas\")"
   ]
  },
  {
   "cell_type": "markdown",
   "metadata": {
    "id": "DHCtQfrvKpWz"
   },
   "source": [
    "Responda às perguntas a seguir utilizando **Spark DATAFRAMES**.\n",
    "\n",
    "1) Qual foi o total de compras realizadas, o total de itens comprados e a receita total obtida em todo o período analisado?"
   ]
  },
  {
   "cell_type": "code",
   "execution_count": null,
   "metadata": {
    "id": "0CcQqjM3r-mq"
   },
   "outputs": [],
   "source": []
  },
  {
   "cell_type": "markdown",
   "metadata": {
    "id": "uVV0rIT8KzZ2"
   },
   "source": [
    "2) Quais são os 3 produtos mais comprados dos estados da região Sul e Sudeste, a quantidade de itens comprados, o valor total pago e a média de preço paga?"
   ]
  },
  {
   "cell_type": "code",
   "execution_count": null,
   "metadata": {
    "id": "JkX1ByRdLa5V"
   },
   "outputs": [],
   "source": []
  },
  {
   "cell_type": "markdown",
   "metadata": {
    "id": "0CaldadHLbgm"
   },
   "source": [
    "3) Para cada produto, quantos usuários fizeram pelo menos uma compra desse produto e qual é o valor mínimo e máximo pago por eles?"
   ]
  },
  {
   "cell_type": "code",
   "execution_count": null,
   "metadata": {
    "id": "qgwOymWOLqAB"
   },
   "outputs": [],
   "source": []
  },
  {
   "cell_type": "markdown",
   "metadata": {
    "id": "QUM8hfarLqy9"
   },
   "source": [
    "4) Aplique um desconto de 10% em todas as vendas dos usuários que fizeram pelo menos 3 compras de produtos na mesma categoria, a partir da 4ª compra realizada. Exiba apenas os usuários que terão o desconto aplicado, mantendo todas as compras, o valor original e o valor com o desconto aplicado."
   ]
  },
  {
   "cell_type": "code",
   "execution_count": null,
   "metadata": {
    "id": "YEYCoeHlMGHl"
   },
   "outputs": [],
   "source": []
  },
  {
   "cell_type": "markdown",
   "metadata": {
    "id": "ndROlUqgMHxn"
   },
   "source": [
    "# FIM!"
   ]
  }
 ],
 "metadata": {
  "colab": {
   "collapsed_sections": [],
   "name": "Teste Engenharia de Dados v2_2 - modelo.ipynb",
   "provenance": []
  },
  "kernelspec": {
   "display_name": "Python 3 (ipykernel)",
   "language": "python",
   "name": "python3"
  },
  "language_info": {
   "codemirror_mode": {
    "name": "ipython",
    "version": 3
   },
   "file_extension": ".py",
   "mimetype": "text/x-python",
   "name": "python",
   "nbconvert_exporter": "python",
   "pygments_lexer": "ipython3",
   "version": "3.10.9"
  }
 },
 "nbformat": 4,
 "nbformat_minor": 1
}
