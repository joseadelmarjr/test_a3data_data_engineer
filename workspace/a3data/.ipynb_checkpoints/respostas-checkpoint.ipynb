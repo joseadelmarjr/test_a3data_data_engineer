{
 "cells": [
  {
   "cell_type": "markdown",
   "metadata": {
    "id": "LVSy2BqsaSkj"
   },
   "source": [
    "# Setup Geral\n",
    "\n",
    "Se estiver executando este exercício no Google Colab, execute as próximas duas células. \n",
    "\n",
    "Caso esteja executando localmente, não é necessário executar mas certifique-se de que o **pyspark** está instalado e configurado em sua máquina."
   ]
  },
  {
   "cell_type": "code",
   "execution_count": null,
   "metadata": {
    "id": "NHPXuknHZ5Az"
   },
   "outputs": [],
   "source": [
    "%%bash\n",
    "\n",
    "# Instal Java\n",
    "apt-get update && apt-get install openjdk-8-jdk-headless -qq > /dev/null\n",
    "\n",
    "# Install PySpark\n",
    "pip install -q pyspark"
   ]
  },
  {
   "cell_type": "code",
   "execution_count": null,
   "metadata": {
    "id": "4dY12q0raXtc"
   },
   "outputs": [],
   "source": [
    "import os\n",
    "os.environ['JAVA_HOME'] = '/usr/lib/jvm/java-8-openjdk-amd64'\n",
    "\n",
    "from pyspark.sql import SparkSession\n",
    "\n",
    "spark = SparkSession.builder.master(\"local[*]\").getOrCreate()"
   ]
  },
  {
   "cell_type": "markdown",
   "metadata": {
    "id": "pZZMC5QPae-Z"
   },
   "source": [
    "# Teste\n",
    "\n",
    "O teste a ser realizado é composto de 3 partes:\n",
    "\n",
    "- um exercício de programação em Python\n",
    "- alguns exercícios de programação em SQL\n",
    "- alguns exercícios de programação com PySpark\n",
    "\n",
    "Você pode escolher qual das partes do exercício vai fazer primeiro. Todo o exercício deve ser completado no período de 48 horas."
   ]
  },
  {
   "cell_type": "markdown",
   "metadata": {
    "id": "YUB8S5fKciHv"
   },
   "source": [
    "# Python"
   ]
  },
  {
   "cell_type": "code",
   "execution_count": 7,
   "metadata": {
    "id": "2F8f5Z1scgUP"
   },
   "outputs": [],
   "source": [
    "# SETUP\n",
    "nomes_alunos = [\n",
    "    ('Maria', 1),\n",
    "    ('João', 2),\n",
    "    ('Pedro', 3),\n",
    "    ('Gabriella', 4),\n",
    "    ('Giovana', 5),\n",
    "    ('Arthur', 6)\n",
    "]\n",
    "\n",
    "notas_alunos = {\n",
    "    1: 9.5,\n",
    "    2: 5.1,\n",
    "    3: 8.7,\n",
    "    4: 7.1,\n",
    "    5: 4.8,\n",
    "    6: 6.3\n",
    "}"
   ]
  },
  {
   "cell_type": "markdown",
   "metadata": {
    "id": "ApIQ4JqjcsnC"
   },
   "source": [
    "Implemente uma função que recebe uma lista de nomes de alunos, um dicionário de notas dos mesmo, sendo que essas estruturas se relacionam por um ID.\n",
    "\n",
    "A função deve retornar em ordem alfabética, o nome dos alunos que obtiveram notas maior ou igual de uma nota de corte informada."
   ]
  },
  {
   "cell_type": "code",
   "execution_count": 8,
   "metadata": {
    "id": "ISnDoCWucpHC"
   },
   "outputs": [
    {
     "data": {
      "text/plain": [
       "['Arthur', 'Gabriella', 'Maria', 'Pedro']"
      ]
     },
     "execution_count": 8,
     "metadata": {},
     "output_type": "execute_result"
    }
   ],
   "source": [
    "def filtra_alunos_acima_corte(alunos, notas, nota_corte):\n",
    "\n",
    "    import logging\n",
    "\n",
    "    logger = logging.getLogger()\n",
    "    logger.setLevel(logging.INFO)\n",
    "\n",
    "    \n",
    "    try:\n",
    "        if not __valida_variaveis_alunos_acima_corte(alunos, notas, nota_corte):\n",
    "            return []\n",
    "\n",
    "    except NameError:\n",
    "        logging.warning(\"Adicionei uma checagem das variáveis ao teste, se for válido no teste, por favor executar a célula abaixo para sua criação\")\n",
    "\n",
    "                        \n",
    "    dict_notas_aprovadas = dict(filter(lambda aluno: aluno[1] >= nota_corte, notas_alunos.items()))\n",
    "\n",
    "    if not dict_notas_aprovadas:\n",
    "        logging.warning(\"Nao temos alunos aprovados.\")\n",
    "        return []\n",
    "\n",
    "    \n",
    "    id_notas_aprovadas = list(dict_notas_aprovadas.keys())\n",
    "    alunos_aprovados = list(filter(lambda x: x[1] in id_notas_aprovadas, alunos))\n",
    "\n",
    "    if len(alunos_aprovados) < len(id_notas_aprovadas):\n",
    "        logging.warning(\"Algum id de aluno aprovado não foi encontrado.\")\n",
    "    \n",
    "    nome_alunos_aprovados = list(map(lambda x: x[0], alunos_aprovados))\n",
    "    \n",
    "    nome_alunos_aprovados.sort()\n",
    "    \n",
    "    return nome_alunos_aprovados\n",
    "\n",
    "    \n",
    "filtra_alunos_acima_corte(nomes_alunos, notas_alunos, 6)"
   ]
  },
  {
   "cell_type": "code",
   "execution_count": 3,
   "metadata": {},
   "outputs": [],
   "source": [
    "def __valida_variaveis_alunos_acima_corte(alunos, notas, nota_corte):\n",
    "\n",
    "    import logging\n",
    "\n",
    "    logger = logging.getLogger()\n",
    "    logger.setLevel(logging.INFO)\n",
    "    \n",
    "    \n",
    "    if not isinstance(alunos, (list)):\n",
    "        logging.error(\"Não recebemos uma lista de alunos.\")\n",
    "        return False\n",
    "\n",
    "\n",
    "    elif not all(map(lambda x: \n",
    "                     isinstance(x, tuple) and \n",
    "                     len(x) == 2 and \n",
    "                     isinstance(x[0], str) and\n",
    "                     isinstance(x[1], int), alunos)\n",
    "                ):\n",
    "        logging.error(\"O formato dos alunos enviados não está no padrão esperado. O padrão correto é ('nome_aluno',10)\")\n",
    "        return False\n",
    "\n",
    "\n",
    "    if not isinstance(notas, (dict)):\n",
    "        logging.error(\"Não recebemos um dicionário de notas.\")\n",
    "        return False\n",
    "\n",
    "\n",
    "    if not all(map(lambda x: isinstance(x, (int)), notas.keys())) \\\n",
    "    or not all(map(lambda x: isinstance(x, (int, float)), notas.values())):\n",
    "        logging.error(\"As notas enviadas não estão no padrão esperado. O padrão correto é {1:10} sendo o id do aluno e sua nota, respectivamente.\")\n",
    "        return False\n",
    "\n",
    "    \n",
    "    if not isinstance(nota_corte, (int, float)):\n",
    "        logging.error(\"Nota de corte inválida. É esperado um valor numérico (inteiro ou decimal).\")\n",
    "        return False\n",
    "    \n",
    "    return True\n"
   ]
  },
  {
   "cell_type": "markdown",
   "metadata": {
    "id": "4iYs_aWqdXrh"
   },
   "source": [
    "# SQL"
   ]
  },
  {
   "cell_type": "markdown",
   "metadata": {
    "id": "mbIq-A9-gXdw"
   },
   "source": [
    "**Setup**\n"
   ]
  },
  {
   "cell_type": "code",
   "execution_count": 5,
   "metadata": {
    "id": "DOG9FO83dlSe"
   },
   "outputs": [
    {
     "name": "stderr",
     "output_type": "stream",
     "text": [
      "  % Total    % Received % Xferd  Average Speed   Time    Time     Time  Current\n",
      "                                 Dload  Upload   Total   Spent    Left  Speed\n",
      "100  1039  100  1039    0     0   1406      0 --:--:-- --:--:-- --:--:--  1405\n",
      "  % Total    % Received % Xferd  Average Speed   Time    Time     Time  Current\n",
      "                                 Dload  Upload   Total   Spent    Left  Speed\n",
      "100  533k  100  533k    0     0   373k      0  0:00:01  0:00:01 --:--:--  373k\n",
      "  % Total    % Received % Xferd  Average Speed   Time    Time     Time  Current\n",
      "                                 Dload  Upload   Total   Spent    Left  Speed\n",
      "100  211k  100  211k    0     0   484k      0 --:--:-- --:--:-- --:--:--  484k\n"
     ]
    }
   ],
   "source": [
    "%%bash\n",
    "#mkdir bases_teste\n",
    "\n",
    "curl https://raw.githubusercontent.com/A3Data/bases_testes/main/bases_teste/produtos.csv -o bases_teste/produtos.csv\n",
    "curl https://raw.githubusercontent.com/A3Data/bases_testes/main/bases_teste/vendas.csv -o bases_teste/vendas.csv\n",
    "curl https://raw.githubusercontent.com/A3Data/bases_testes/main/bases_teste/usuarios.csv -o bases_teste/usuarios.csv"
   ]
  },
  {
   "cell_type": "code",
   "execution_count": 81,
   "metadata": {
    "id": "kHkTwPZmfV2t"
   },
   "outputs": [],
   "source": [
    "# Setup Spark Session\n",
    "from pyspark.sql import SparkSession\n",
    "spark = SparkSession.builder.appName(\"AtividadeSQL\").getOrCreate()"
   ]
  },
  {
   "cell_type": "code",
   "execution_count": 83,
   "metadata": {
    "id": "3kb1a6CwgSVd"
   },
   "outputs": [],
   "source": [
    "def cria_tabela(path, nome_tabela):\n",
    "    df = spark.read.csv(path, inferSchema=True, header=True)\n",
    "    df.createOrReplaceTempView(nome_tabela)\n",
    "    return df\n",
    "\n",
    "usuarios = cria_tabela(\"bases_teste/usuarios.csv\", \"usuarios\")\n",
    "produtos = cria_tabela(\"bases_teste/produtos.csv\", \"produtos\")\n",
    "vendas = cria_tabela(\"bases_teste/vendas.csv\", \"vendas\")"
   ]
  },
  {
   "cell_type": "markdown",
   "metadata": {
    "id": "6N5gLPYEg27q"
   },
   "source": [
    "**Função para execução de queries**"
   ]
  },
  {
   "cell_type": "code",
   "execution_count": 38,
   "metadata": {
    "id": "HtpEu2utg5Pb"
   },
   "outputs": [],
   "source": [
    "def q(query, n=30):\n",
    "    return spark.sql(query).show(n=n, truncate=False)"
   ]
  },
  {
   "cell_type": "markdown",
   "metadata": {
    "id": "s84UzyTqg9lH"
   },
   "source": [
    "Para executar alguma consulta, basta colocar seu código sql dentro da função q como no exemplo abaixo:\n",
    "\n",
    "```python\n",
    "q(\"\"\"\n",
    "    SELECT *\n",
    "    FROM usuarios\n",
    "\"\"\")\n",
    "```\n",
    "\n",
    "e o resultado será exibido na tela.\n",
    "\n",
    "---\n",
    "\n",
    "Nesta parte da atividade, você vai trabalhar com três tabelas:\n",
    "\n",
    "- produtos\n",
    "- usuarios\n",
    "- vendas\n",
    "\n",
    "Use-as para responder às perguntas a seguir."
   ]
  },
  {
   "cell_type": "markdown",
   "metadata": {
    "id": "Kxzvs2rVoxGk"
   },
   "source": [
    "1) Qual foi a quantidade de vendas nos estados de Minas Gerais e São Paulo para cada ano e mês?"
   ]
  },
  {
   "cell_type": "code",
   "execution_count": 84,
   "metadata": {
    "id": "eLe62-JehCDO"
   },
   "outputs": [
    {
     "name": "stdout",
     "output_type": "stream",
     "text": [
      "+------------+----------+----------+---------+\n",
      "|estado      |ano_compra|mes_compra|qtd_venda|\n",
      "+------------+----------+----------+---------+\n",
      "|Minas Gerais|2018      |6         |1        |\n",
      "|Minas Gerais|2018      |8         |1        |\n",
      "|Minas Gerais|2018      |10        |1        |\n",
      "|Minas Gerais|2018      |11        |1        |\n",
      "|Minas Gerais|2018      |12        |2        |\n",
      "|Minas Gerais|2019      |1         |2        |\n",
      "|Minas Gerais|2019      |2         |1        |\n",
      "|Minas Gerais|2019      |4         |2        |\n",
      "|Minas Gerais|2019      |5         |1        |\n",
      "|Minas Gerais|2019      |6         |1        |\n",
      "|Minas Gerais|2019      |7         |2        |\n",
      "|Minas Gerais|2019      |8         |1        |\n",
      "|Minas Gerais|2019      |9         |2        |\n",
      "|Minas Gerais|2019      |10        |1        |\n",
      "|Minas Gerais|2019      |11        |1        |\n",
      "|Minas Gerais|2019      |12        |3        |\n",
      "|Minas Gerais|2020      |1         |1        |\n",
      "|Minas Gerais|2020      |2         |1        |\n",
      "|Minas Gerais|2020      |3         |1        |\n",
      "|Minas Gerais|2020      |4         |1        |\n",
      "|Minas Gerais|2020      |5         |3        |\n",
      "|Minas Gerais|2020      |6         |3        |\n",
      "|Minas Gerais|2020      |7         |2        |\n",
      "|Minas Gerais|2020      |9         |3        |\n",
      "|Minas Gerais|2020      |10        |1        |\n",
      "|Minas Gerais|2020      |11        |3        |\n",
      "|Minas Gerais|2020      |12        |1        |\n",
      "|Minas Gerais|2021      |1         |2        |\n",
      "|Minas Gerais|2021      |2         |6        |\n",
      "|Minas Gerais|2021      |3         |1        |\n",
      "|Minas Gerais|2021      |4         |6        |\n",
      "|Minas Gerais|2021      |5         |4        |\n",
      "|Minas Gerais|2021      |6         |3        |\n",
      "|Minas Gerais|2021      |7         |5        |\n",
      "|São Paulo   |2018      |7         |1        |\n",
      "|São Paulo   |2018      |10        |1        |\n",
      "|São Paulo   |2019      |6         |1        |\n",
      "|São Paulo   |2019      |8         |1        |\n",
      "|São Paulo   |2020      |1         |1        |\n",
      "|São Paulo   |2020      |3         |1        |\n",
      "|São Paulo   |2020      |4         |1        |\n",
      "|São Paulo   |2020      |6         |1        |\n",
      "|São Paulo   |2020      |9         |2        |\n",
      "|São Paulo   |2020      |10        |4        |\n",
      "|São Paulo   |2021      |2         |1        |\n",
      "|São Paulo   |2021      |3         |1        |\n",
      "|São Paulo   |2021      |4         |3        |\n",
      "|São Paulo   |2021      |5         |2        |\n",
      "|São Paulo   |2021      |6         |6        |\n",
      "|São Paulo   |2021      |7         |11       |\n",
      "+------------+----------+----------+---------+\n",
      "\n"
     ]
    }
   ],
   "source": [
    "q(\"\"\"\n",
    "SELECT\n",
    " u.estado\n",
    ",YEAR(data_compra) AS ano_compra\n",
    ",MONTH(data_compra) AS mes_compra\n",
    ",COUNT(*) AS qtd_venda\n",
    "FROM\n",
    "vendas AS v\n",
    "INNER JOIN usuarios AS u ON u.cod_usuario = v.cod_usuario\n",
    "WHERE\n",
    "u.estado IN (\"Minas Gerais\", \"São Paulo\")\n",
    "GROUP BY\n",
    " u.estado\n",
    ",YEAR(data_compra)\n",
    ",MONTH(data_compra)\n",
    "ORDER BY\n",
    " u.estado\n",
    ",YEAR(data_compra)\n",
    ",MONTH(data_compra)\n",
    "\"\"\",n = 100)"
   ]
  },
  {
   "cell_type": "markdown",
   "metadata": {
    "id": "xzD4NiqHplgI"
   },
   "source": [
    "2) Quais são os usuários por Estado que mais compraram em todo o período analisado e qual foi o número de compras realizadas, a quantidade total de itens comprados e valor total pago por usuário?"
   ]
  },
  {
   "cell_type": "code",
   "execution_count": 59,
   "metadata": {
    "id": "bVV3Gnthp5hT"
   },
   "outputs": [
    {
     "name": "stdout",
     "output_type": "stream",
     "text": [
      "+-----------+-------------------+-----------------+---------------+----------------+\n",
      "|cod_usuario|estado             |qtd_total_compras|qtd_total_itens|valor_total_pago|\n",
      "+-----------+-------------------+-----------------+---------------+----------------+\n",
      "|2186       |Amapá              |7                |61             |51359.34        |\n",
      "|2981       |Bahia              |9                |70             |126282.4        |\n",
      "|1787       |Ceará              |8                |79             |121494.67       |\n",
      "|700        |Goiás              |9                |74             |142389.09       |\n",
      "|2811       |Maranhão           |13               |117            |184101.89       |\n",
      "|2340       |Mato Grosso        |9                |112            |165197.3        |\n",
      "|679        |Mato Grosso do Sul |6                |102            |152271.96       |\n",
      "|3090       |Minas Gerais       |9                |93             |95697.3         |\n",
      "|2843       |Paraná             |10               |114            |137228.01       |\n",
      "|464        |Paraíba            |6                |73             |73556.1         |\n",
      "|2646       |Pernambuco         |7                |84             |135556.7        |\n",
      "|2669       |Pernambuco         |7                |56             |37119.0         |\n",
      "|1974       |Piauí              |5                |77             |139997.47       |\n",
      "|2441       |Piauí              |5                |33             |40866.19        |\n",
      "|3403       |Rio Grande do Norte|10               |94             |136347.01       |\n",
      "|28         |Rio Grande do Sul  |9                |76             |29114.45        |\n",
      "|2551       |Santa Catarina     |9                |88             |187513.66       |\n",
      "|1074       |Santa Catarina     |9                |66             |159165.18       |\n",
      "|1756       |São Paulo          |8                |73             |134413.0        |\n",
      "|1752       |Tocantins          |8                |80             |97028.45        |\n",
      "+-----------+-------------------+-----------------+---------------+----------------+\n",
      "\n"
     ]
    }
   ],
   "source": [
    "q(\"\"\"\n",
    "SELECT \n",
    " cod_usuario\n",
    ",estado\n",
    ",qtd_total_compras\n",
    ",qtd_total_itens\n",
    ",valor_total_pago\n",
    "FROM (\n",
    "    SELECT\n",
    "     u.cod_usuario\n",
    "    ,u.estado\n",
    "    ,COUNT(*) AS qtd_total_compras\n",
    "    ,ROUND(SUM(v.quantidade),2) AS qtd_total_itens\n",
    "    ,ROUND(SUM(v.valor),2) AS valor_total_pago\n",
    "    ,RANK() OVER(PARTITION BY u.estado ORDER BY COUNT(*) desc) as ranking_por_compra_cliente\n",
    "    FROM\n",
    "    vendas AS v\n",
    "    INNER JOIN usuarios AS u ON u.cod_usuario = v.cod_usuario\n",
    "    GROUP BY\n",
    "     u.cod_usuario\n",
    "    ,u.estado\n",
    ") WHERE ranking_por_compra_cliente = 1\n",
    "ORDER BY\n",
    " estado\n",
    ",valor_total_pago DESC\n",
    "\n",
    "\"\"\")"
   ]
  },
  {
   "cell_type": "markdown",
   "metadata": {
    "id": "Rx53Cl5Xp6TV"
   },
   "source": [
    "3) Quais são os usuários que não fizeram nenhuma compra?"
   ]
  },
  {
   "cell_type": "code",
   "execution_count": 68,
   "metadata": {
    "id": "POtsi6dPq9-K"
   },
   "outputs": [
    {
     "name": "stdout",
     "output_type": "stream",
     "text": [
      "+-----------+-------------------+------------------+-----------------------+-------------------+\n",
      "|cod_usuario|data_cadastro      |faixa_etaria      |cidade                 |estado             |\n",
      "+-----------+-------------------+------------------+-----------------------+-------------------+\n",
      "|3499       |2019-12-17 00:00:00|Entre 10 a 15 anos|Jacuí                  |Minas Gerais       |\n",
      "|3504       |2021-06-23 00:00:00|Entre 16 a 21 anos|Bom Jesus do Galho     |Minas Gerais       |\n",
      "|3516       |2019-10-13 00:00:00|Entre 10 a 15 anos|Rio Verde              |Goiás              |\n",
      "|3556       |2020-08-04 00:00:00|Entre 62 a 70 anos|Confresa               |Mato Grosso        |\n",
      "|3560       |2018-09-04 00:00:00|Entre 16 a 21 anos|Maracaí                |São Paulo          |\n",
      "|3564       |2018-07-02 00:00:00|Entre 62 a 70 anos|Betim                  |Minas Gerais       |\n",
      "|3692       |2018-08-28 00:00:00|Mais de 70 anos   |Nipoã                  |São Paulo          |\n",
      "|3754       |2021-05-16 00:00:00|Entre 28 a 36 anos|Alcantil               |Paraíba            |\n",
      "|3764       |2020-09-10 00:00:00|Entre 37 a 49 anos|Itaipava do Grajaú     |Maranhão           |\n",
      "|3829       |2020-11-10 00:00:00|Entre 28 a 36 anos|Jaraguá                |Goiás              |\n",
      "|3837       |2018-08-18 00:00:00|Mais de 70 anos   |Campo Grande           |Mato Grosso do Sul |\n",
      "|3861       |2020-05-27 00:00:00|Mais de 70 anos   |Juti                   |Mato Grosso do Sul |\n",
      "|3879       |2018-12-15 00:00:00|Entre 62 a 70 anos|Piranga                |Minas Gerais       |\n",
      "|4020       |2019-12-17 00:00:00|Mais de 70 anos   |Araioses               |Maranhão           |\n",
      "|4251       |2018-03-16 00:00:00|Entre 10 a 15 anos|São Geraldo do Baixio  |Minas Gerais       |\n",
      "|4269       |2020-10-14 00:00:00|Entre 22 a 27 anos|General Carneiro       |Mato Grosso        |\n",
      "|4334       |2018-10-10 00:00:00|Entre 28 a 36 anos|Doutor Severiano       |Rio Grande do Norte|\n",
      "|4391       |2018-06-30 00:00:00|Entre 62 a 70 anos|São José da Lapa       |Minas Gerais       |\n",
      "|4431       |2020-02-16 00:00:00|Mais de 70 anos   |Cachoeiro de Itapemirim|Espírito Santo     |\n",
      "|4443       |2018-04-13 00:00:00|Entre 37 a 49 anos|São Miguel do Tocantins|Tocantins          |\n",
      "|4725       |2019-01-23 00:00:00|Entre 22 a 27 anos|Serra                  |Espírito Santo     |\n",
      "|4850       |2018-02-11 00:00:00|Entre 10 a 15 anos|Engenheiro Caldas      |Minas Gerais       |\n",
      "|4909       |2019-06-15 00:00:00|Entre 16 a 21 anos|Eldorado               |São Paulo          |\n",
      "|4995       |2019-06-23 00:00:00|Mais de 70 anos   |Nova Luzitânia         |São Paulo          |\n",
      "|5049       |2020-10-15 00:00:00|Entre 10 a 15 anos|Cabeceiras             |Goiás              |\n",
      "|5098       |2021-05-03 00:00:00|Entre 62 a 70 anos|Guaraci                |Paraná             |\n",
      "|5133       |2019-08-05 00:00:00|Entre 16 a 21 anos|Sebastianópolis do Sul |São Paulo          |\n",
      "|5229       |2019-11-22 00:00:00|Entre 10 a 15 anos|Cerqueira César        |São Paulo          |\n",
      "|5245       |2021-03-05 00:00:00|Entre 37 a 49 anos|Dona Francisca         |Rio Grande do Sul  |\n",
      "|5247       |2018-08-20 00:00:00|Entre 28 a 36 anos|Rolante                |Rio Grande do Sul  |\n",
      "+-----------+-------------------+------------------+-----------------------+-------------------+\n",
      "only showing top 30 rows\n",
      "\n"
     ]
    }
   ],
   "source": [
    "q(\"\"\"\n",
    "SELECT\n",
    " u.*\n",
    "FROM\n",
    "usuarios AS u  \n",
    "LEFT JOIN vendas AS v ON u.cod_usuario = v.cod_usuario\n",
    "WHERE \n",
    "u.cod_usuario IS NOT NULL /*Removendo linhas vazias que estão na tabela*/\n",
    "AND v.cod_usuario IS NULL\n",
    "ORDER BY\n",
    " u.cod_usuario\n",
    "\"\"\")"
   ]
  },
  {
   "cell_type": "markdown",
   "metadata": {
    "id": "JMfPmlvJq-vq"
   },
   "source": [
    "4) Qual é o ticket médio (média de valor gasto) e o número total de usuários que fizeram pelo menos uma compra por faixa etária?"
   ]
  },
  {
   "cell_type": "code",
   "execution_count": 78,
   "metadata": {
    "id": "2wmU9pLbrMg3"
   },
   "outputs": [
    {
     "name": "stdout",
     "output_type": "stream",
     "text": [
      "+------------------+------------+-----------+\n",
      "|faixa_etaria      |ticket_medio|qtd_usuario|\n",
      "+------------------+------------+-----------+\n",
      "|Entre 10 a 15 anos|8890.13     |7          |\n",
      "|Entre 16 a 21 anos|12725.95    |11         |\n",
      "|Entre 22 a 27 anos|12203.02    |10         |\n",
      "|Entre 28 a 36 anos|8233.04     |9          |\n",
      "|Entre 37 a 49 anos|16727.19    |6          |\n",
      "|Entre 50 a 61 anos|10849.48    |12         |\n",
      "|Entre 62 a 70 anos|10012.63    |7          |\n",
      "|Mais de 70 anos   |11303.1     |4          |\n",
      "+------------------+------------+-----------+\n",
      "\n"
     ]
    }
   ],
   "source": [
    "q(\"\"\"\n",
    "SELECT\n",
    " u.faixa_etaria\n",
    ",ROUND(AVG(v.valor),2) AS ticket_medio\n",
    ",COUNT(DISTINCT u.cod_usuario) AS qtd_usuario\n",
    "FROM\n",
    "vendas AS v  \n",
    "INNER JOIN usuarios AS u ON u.cod_usuario = v.cod_usuario\n",
    "GROUP BY\n",
    " u.faixa_etaria\n",
    "ORDER BY\n",
    " u.faixa_etaria\n",
    "\"\"\")"
   ]
  },
  {
   "cell_type": "code",
   "execution_count": 332,
   "metadata": {},
   "outputs": [
    {
     "name": "stdout",
     "output_type": "stream",
     "text": [
      "+-----------+-------------------+--------------------------------+-----------+-------------------+----------+--------+\n",
      "|cod_produto|categoria_produto  |nome_produto                    |cod_usuario|data_compra        |quantidade|valor   |\n",
      "+-----------+-------------------+--------------------------------+-----------+-------------------+----------+--------+\n",
      "|13         |Alimentos          |Kit 3 barras de chocolate Alpino|123        |2020-12-20 00:00:00|18        |178.2   |\n",
      "|16         |Alimentos          |Biscoito Chocolicia Chocolate   |123        |2021-02-06 00:00:00|19        |95.0    |\n",
      "|13         |Alimentos          |Kit 3 barras de chocolate Alpino|123        |2021-05-18 00:00:00|13        |128.7   |\n",
      "|16         |Alimentos          |Biscoito Chocolicia Chocolate   |123        |2021-07-20 00:00:00|2         |10.0    |\n",
      "|7          |Casa e bem-estar   |Ar-condicionado 9500 BTUs LG    |123        |2020-12-13 00:00:00|8         |10403.92|\n",
      "|12         |Casa e bem-estar   |Umidificador de Ar Cadence      |123        |2021-01-25 00:00:00|4         |310.0   |\n",
      "|18         |Produtos de limpeza|Lenço umedecido Turma da Monica |123        |2021-03-24 00:00:00|7         |55.3    |\n",
      "|1          |Tecnologia         |Notebook Asus Intel Core i7     |123        |2021-01-08 00:00:00|6         |27545.4 |\n",
      "+-----------+-------------------+--------------------------------+-----------+-------------------+----------+--------+\n",
      "\n"
     ]
    }
   ],
   "source": [
    "q(\"\"\"\n",
    "SELECT\n",
    " p.cod_produto\n",
    ",p.categoria_produto\n",
    ",p.nome_produto\n",
    ",v.cod_usuario\n",
    ",v.data_compra\n",
    ",v.quantidade\n",
    ",v.valor\n",
    "FROM\n",
    "vendas AS v\n",
    "INNER JOIN produtos AS p \n",
    "    ON p.cod_produto = v.cod_produto\n",
    "where\n",
    "cod_usuario = 37\n",
    "ORDER BY\n",
    " categoria_produto\n",
    ",data_compra\n",
    ",nome_produto\n",
    "\"\"\")"
   ]
  },
  {
   "cell_type": "code",
   "execution_count": 85,
   "metadata": {
    "id": "3zzx4TnTJ0ck"
   },
   "outputs": [],
   "source": [
    "spark.stop()"
   ]
  },
  {
   "cell_type": "markdown",
   "metadata": {
    "id": "YsxnKyHTr9ZQ"
   },
   "source": [
    "# PySpark"
   ]
  },
  {
   "cell_type": "markdown",
   "metadata": {
    "id": "IHTFrsFRKENk"
   },
   "source": [
    "**setup**:"
   ]
  },
  {
   "cell_type": "code",
   "execution_count": 86,
   "metadata": {
    "id": "ExrbmwGPJ74k"
   },
   "outputs": [
    {
     "name": "stderr",
     "output_type": "stream",
     "text": [
      "  % Total    % Received % Xferd  Average Speed   Time    Time     Time  Current\n",
      "                                 Dload  Upload   Total   Spent    Left  Speed\n",
      "100  1039  100  1039    0     0   3539      0 --:--:-- --:--:-- --:--:--  3546\n",
      "  % Total    % Received % Xferd  Average Speed   Time    Time     Time  Current\n",
      "                                 Dload  Upload   Total   Spent    Left  Speed\n",
      "100  533k  100  533k    0     0   553k      0 --:--:-- --:--:-- --:--:--  552k\n",
      "  % Total    % Received % Xferd  Average Speed   Time    Time     Time  Current\n",
      "                                 Dload  Upload   Total   Spent    Left  Speed\n",
      "100  211k  100  211k    0     0   372k      0 --:--:-- --:--:-- --:--:--  371k\n"
     ]
    }
   ],
   "source": [
    "%%bash\n",
    "mkdir bases_teste\n",
    "curl https://raw.githubusercontent.com/A3Data/bases_testes/main/bases_teste/produtos.csv -o bases_teste/produtos.csv\n",
    "curl https://raw.githubusercontent.com/A3Data/bases_testes/main/bases_teste/vendas.csv -o bases_teste/vendas.csv\n",
    "curl https://raw.githubusercontent.com/A3Data/bases_testes/main/bases_teste/usuarios.csv -o bases_teste/usuarios.csv"
   ]
  },
  {
   "cell_type": "code",
   "execution_count": 87,
   "metadata": {
    "id": "1iMZB37mJ74k"
   },
   "outputs": [],
   "source": [
    "# Setup Spark Session\n",
    "from pyspark.sql import SparkSession\n",
    "spark = SparkSession.builder.appName(\"AtividadeSQL\").getOrCreate()"
   ]
  },
  {
   "cell_type": "code",
   "execution_count": 267,
   "metadata": {
    "id": "5wjdDd3tJ74l"
   },
   "outputs": [],
   "source": [
    "def cria_tabela(path, nome_tabela):\n",
    "    df = spark.read.csv(path, inferSchema=True, header=True)\n",
    "    df.createOrReplaceTempView(nome_tabela)\n",
    "    return df\n",
    "\n",
    "usuarios = cria_tabela(\"bases_teste/usuarios.csv\", \"usuarios\")\n",
    "produtos = cria_tabela(\"bases_teste/produtos.csv\", \"produtos\")\n",
    "vendas = cria_tabela(\"bases_teste/vendas.csv\", \"vendas\")"
   ]
  },
  {
   "cell_type": "markdown",
   "metadata": {
    "id": "DHCtQfrvKpWz"
   },
   "source": [
    "Responda às perguntas a seguir utilizando **Spark DATAFRAMES**.\n",
    "\n",
    "1) Qual foi o total de compras realizadas, o total de itens comprados e a receita total obtida em todo o período analisado?"
   ]
  },
  {
   "cell_type": "code",
   "execution_count": 171,
   "metadata": {
    "id": "0CcQqjM3r-mq"
   },
   "outputs": [
    {
     "name": "stdout",
     "output_type": "stream",
     "text": [
      "+-------------+-----------+-------------+\n",
      "|total_compras|total_itens|receita_total|\n",
      "+-------------+-----------+-------------+\n",
      "|        20000|     209149|    215849002|\n",
      "+-------------+-----------+-------------+\n",
      "\n"
     ]
    }
   ],
   "source": [
    "from pyspark.sql.functions import format_string\n",
    "\n",
    "df_vendas = spark.read.table(\"vendas\")\n",
    "\n",
    "df_resposta = df_vendas.agg(\n",
    "    count(\"*\").alias(\"total_compras\"),\n",
    "    sum(\"quantidade\").alias(\"total_itens\"),\n",
    "    sum(\"valor\").alias(\"receita_total\"),\n",
    ")\n",
    "\n",
    "df_resposta = df_resposta.withColumn(\n",
    "    \"receita_total\", format_string(\"%.0f\", df_resposta[\"receita_total\"])\n",
    ")\n",
    "\n",
    "\n",
    "df_resposta.show()\n"
   ]
  },
  {
   "cell_type": "markdown",
   "metadata": {
    "id": "uVV0rIT8KzZ2"
   },
   "source": [
    "2) Quais são os 3 produtos mais comprados dos estados da região Sul e Sudeste, a quantidade de itens comprados, o valor total pago e a média de preço paga?"
   ]
  },
  {
   "cell_type": "code",
   "execution_count": 269,
   "metadata": {
    "id": "JkX1ByRdLa5V"
   },
   "outputs": [
    {
     "name": "stdout",
     "output_type": "stream",
     "text": [
      "+-----------+--------------------------------+-----------------+---------+-----------+----+-----------+\n",
      "|cod_produto|nome_produto                    |estado           |qtd_itens|valor_total|rank|media_preco|\n",
      "+-----------+--------------------------------+-----------------+---------+-----------+----+-----------+\n",
      "|15         |Alcool em Gel 70% Johnson       |Minas Gerais     |165      |823.35     |1   |4.99       |\n",
      "|5          |Escrivaninha em L               |Minas Gerais     |78       |34,086.00  |2   |437.00     |\n",
      "|1          |Notebook Asus Intel Core i7     |Minas Gerais     |71       |325,953.90 |3   |4,590.90   |\n",
      "|11         |Jogo Mortal Kombat 11 PS4       |Paraná           |35       |1,746.50   |1   |49.90      |\n",
      "|10         |Cadeira Gamer Xpress            |Paraná           |27       |18,897.30  |2   |699.90     |\n",
      "|19         |SmartTV Samsung 4K 55 polegadas |Paraná           |25       |62,497.50  |3   |2,499.90   |\n",
      "|15         |Alcool em Gel 70% Johnson       |Rio Grande do Sul|43       |214.57     |1   |4.99       |\n",
      "|11         |Jogo Mortal Kombat 11 PS4       |Rio Grande do Sul|41       |2,045.90   |2   |49.90      |\n",
      "|7          |Ar-condicionado 9500 BTUs LG    |Rio Grande do Sul|33       |42,916.17  |3   |1,300.49   |\n",
      "|17         |Monitor LG 19 pol curvado       |Santa Catarina   |53       |30,957.30  |1   |584.10     |\n",
      "|1          |Notebook Asus Intel Core i7     |Santa Catarina   |39       |179,045.10 |2   |4,590.90   |\n",
      "|13         |Kit 3 barras de chocolate Alpino|Santa Catarina   |35       |346.50     |3   |9.90       |\n",
      "|15         |Alcool em Gel 70% Johnson       |São Paulo        |62       |309.38     |1   |4.99       |\n",
      "|6          |Sofa 3 lugares                  |São Paulo        |49       |44,095.10  |2   |899.90     |\n",
      "|13         |Kit 3 barras de chocolate Alpino|São Paulo        |41       |405.90     |3   |9.90       |\n",
      "+-----------+--------------------------------+-----------------+---------+-----------+----+-----------+\n",
      "\n"
     ]
    }
   ],
   "source": [
    "from pyspark.sql.functions import col, count, dense_rank, desc, format_number, sum\n",
    "from pyspark.sql.window import Window\n",
    "\n",
    "df_usuarios = spark.read.table(\"usuarios\")\n",
    "df_vendas = spark.read.table(\"vendas\")\n",
    "df_produtos = spark.read.table(\"produtos\")\n",
    "\n",
    "estados_considerados = [\n",
    "    (\"São Paulo\",),\n",
    "    (\"Rio de Janeiro\",),\n",
    "    (\"Minas Gerais\",),\n",
    "    (\"Espírito Santo\",),\n",
    "    (\"Paraná\",),\n",
    "    (\"Santa Catarina\",),\n",
    "    (\"Rio Grande do Sul\",),\n",
    "]\n",
    "\n",
    "\n",
    "df_produtos = df_produtos[\"cod_produto\", \"nome_produto\"]\n",
    "\n",
    "df_estados_considerados = spark.createDataFrame(estados_considerados, [\"estado\"])\n",
    "\n",
    "\n",
    "df_usuarios_nos_estados = df_usuarios.join(\n",
    "    df_estados_considerados,\n",
    "    df_usuarios.estado == df_estados_considerados.estado,\n",
    "    \"inner\",\n",
    ")\n",
    "\n",
    "\n",
    "df_compras_por_usuario = df_usuarios_nos_estados.join(\n",
    "    df_vendas, df_vendas.cod_usuario == df_usuarios_nos_estados.cod_usuario, \"inner\"\n",
    ")\n",
    "\n",
    "\n",
    "df_compras_por_usuario = df_compras_por_usuario[\n",
    "    \"usuarios.cod_usuario\",\n",
    "    \"usuarios.estado\",\n",
    "    \"cod_produto\",\n",
    "    \"quantidade\",\n",
    "    \"valor\",\n",
    "]\n",
    "\n",
    "\n",
    "df_agrupado_por_produto_estado = df_compras_por_usuario.groupBy(\n",
    "    \"cod_produto\", \"estado\"\n",
    ").agg(sum(\"quantidade\").alias(\"qtd_itens\"), sum(\"valor\").alias(\"valor_total\"))\n",
    "\n",
    "\n",
    "window_spec = Window.partitionBy(\"estado\").orderBy(desc(\"qtd_itens\"))\n",
    "df_rank_por_produto_estado = df_agrupado_por_produto_estado.select(\n",
    "    \"cod_produto\",\n",
    "    \"estado\",\n",
    "    \"qtd_itens\",\n",
    "    \"valor_total\",\n",
    "    dense_rank().over(window_spec).alias(\"rank\"),\n",
    ")\n",
    "\n",
    "\n",
    "df_rank_por_produto_estado = df_rank_por_produto_estado.filter(col(\"rank\") <= 3)\n",
    "\n",
    "df_rank_por_produto_estado = df_rank_por_produto_estado.withColumn(\n",
    "    \"media_preco\", col(\"valor_total\") / col(\"qtd_itens\")\n",
    ")\n",
    "\n",
    "\n",
    "df_resposta = df_rank_por_produto_estado.join(\n",
    "    df_produtos,\n",
    "    df_produtos.cod_produto == df_rank_por_produto_estado.cod_produto,\n",
    "    \"inner\",\n",
    ")\n",
    "\n",
    "df_resposta = df_resposta[\n",
    "    \"vendas.cod_produto\",\n",
    "    \"nome_produto\",\n",
    "    \"estado\",\n",
    "    \"qtd_itens\",\n",
    "    \"valor_total\",\n",
    "    \"rank\",\n",
    "    \"media_preco\",\n",
    "]\n",
    "\n",
    "df_resposta = df_resposta.withColumn(\"valor_total\", format_number(\"valor_total\", 2))\n",
    "df_resposta = df_resposta.withColumn(\"media_preco\", format_number(\"media_preco\", 2))\n",
    "\n",
    "df_resposta.show(truncate=False, n=100)\n"
   ]
  },
  {
   "cell_type": "markdown",
   "metadata": {
    "id": "0CaldadHLbgm"
   },
   "source": [
    "3) Para cada produto, quantos usuários fizeram pelo menos uma compra desse produto e qual é o valor mínimo e máximo pago por eles? "
   ]
  },
  {
   "cell_type": "code",
   "execution_count": 270,
   "metadata": {
    "id": "qgwOymWOLqAB"
   },
   "outputs": [
    {
     "name": "stdout",
     "output_type": "stream",
     "text": [
      "+-----------+-----------------------------------+------------+---------------------+---------------------+\n",
      "|cod_produto|nome_produto                       |qtd_usuarios|valor_unitario_minimo|valor_unitario_maximo|\n",
      "+-----------+-----------------------------------+------------+---------------------+---------------------+\n",
      "|18         |Lenço umedecido Turma da Monica    |880         |7.90                 |7.90                 |\n",
      "|7          |Ar-condicionado 9500 BTUs LG       |863         |1,300.49             |1,300.49             |\n",
      "|5          |Escrivaninha em L                  |860         |437.00               |437.00               |\n",
      "|19         |SmartTV Samsung 4K 55 polegadas    |856         |2,499.90             |2,499.90             |\n",
      "|9          |Microoondas 35L                    |847         |389.10               |389.10               |\n",
      "|11         |Jogo Mortal Kombat 11 PS4          |847         |49.90                |49.90                |\n",
      "|6          |Sofa 3 lugares                     |845         |899.90               |899.90               |\n",
      "|17         |Monitor LG 19 pol curvado          |842         |584.10               |584.10               |\n",
      "|21         |SPA Intel 700 L                    |839         |5,999.10             |5,999.10             |\n",
      "|10         |Cadeira Gamer Xpress               |838         |699.90               |699.90               |\n",
      "|15         |Alcool em Gel 70% Johnson          |837         |4.99                 |4.99                 |\n",
      "|4          |Mochila Targus                     |833         |58.90                |58.90                |\n",
      "|8          |Cafeteira Nespresso                |832         |219.57               |219.57               |\n",
      "|16         |Biscoito Chocolicia Chocolate      |832         |5.00                 |5.00                 |\n",
      "|1          |Notebook Asus Intel Core i7        |825         |4,590.90             |4,590.90             |\n",
      "|3          |Smartphone Samsung                 |823         |2,049.50             |2,049.50             |\n",
      "|20         |Aparelho de Barbear OneBlade Philco|818         |129.90               |129.90               |\n",
      "|14         |Blusa Lacoste                      |812         |138.99               |138.99               |\n",
      "|13         |Kit 3 barras de chocolate Alpino   |809         |9.90                 |9.90                 |\n",
      "|12         |Umidificador de Ar Cadence         |788         |77.50                |77.50                |\n",
      "|2          |Bicicleta Caloi Aro 29             |775         |1,345.78             |1,345.78             |\n",
      "+-----------+-----------------------------------+------------+---------------------+---------------------+\n",
      "\n"
     ]
    }
   ],
   "source": [
    "from pyspark.sql.functions import col, countDistinct, desc, format_number, min, max\n",
    "\n",
    "df_vendas = spark.read.table(\"vendas\")\n",
    "df_produtos = spark.read.table(\"produtos\")\n",
    "\n",
    "\n",
    "df_vendas = df_vendas[\"cod_produto\", \"cod_usuario\", \"quantidade\", \"valor\"]\n",
    "df_vendas = df_vendas.withColumn(\"valor_unitario\", col(\"valor\") / col(\"quantidade\"))\n",
    "\n",
    "df_clientes_por_produto = df_vendas.groupBy(\"cod_produto\").agg(\n",
    "    min(\"valor_unitario\").alias(\"valor_unitario_minimo\"),\n",
    "    max(\"valor_unitario\").alias(\"valor_unitario_maximo\"),\n",
    "    countDistinct(\"cod_usuario\").alias(\"qtd_usuarios\"),\n",
    ")\n",
    "\n",
    "df_resposta = df_produtos.join(\n",
    "    df_clientes_por_produto,\n",
    "    df_produtos.cod_produto == df_clientes_por_produto.cod_produto,\n",
    "    \"left\",\n",
    ")\n",
    "\n",
    "df_resposta = df_resposta.na.fill(\n",
    "    0, subset=[\"qtd_usuarios\", \"valor_unitario_minimo\", \"valor_unitario_maximo\"]\n",
    ")\n",
    "\n",
    "df_resposta = df_resposta.withColumn(\n",
    "    \"valor_unitario_minimo\", format_number(\"valor_unitario_minimo\", 2)\n",
    ")\n",
    "df_resposta = df_resposta.withColumn(\n",
    "    \"valor_unitario_maximo\", format_number(\"valor_unitario_maximo\", 2)\n",
    ")\n",
    "\n",
    "df_resposta = df_resposta[\n",
    "    \"produtos.cod_produto\",\n",
    "    \"nome_produto\",\n",
    "    \"qtd_usuarios\",\n",
    "    \"valor_unitario_minimo\",\n",
    "    \"valor_unitario_maximo\",\n",
    "]\n",
    "\n",
    "\n",
    "df_resposta = df_resposta.orderBy(desc(\"qtd_usuarios\"))\n",
    "df_resposta.show(truncate=False, n=100)\n"
   ]
  },
  {
   "cell_type": "markdown",
   "metadata": {
    "id": "QUM8hfarLqy9"
   },
   "source": [
    "4) Aplique um desconto de 10% em todas as vendas dos usuários que fizeram pelo menos 3 compras de produtos na mesma categoria, a partir da 4ª compra realizada. Exiba apenas os usuários que terão o desconto aplicado, mantendo todas as compras, o valor original e o valor com o desconto aplicado."
   ]
  },
  {
   "cell_type": "code",
   "execution_count": 357,
   "metadata": {
    "id": "YEYCoeHlMGHl"
   },
   "outputs": [
    {
     "name": "stdout",
     "output_type": "stream",
     "text": [
      "+-----------+-----------+--------------------+--------------------+-----------+------------+---------+------------------+\n",
      "|cod_usuario|cod_produto|   categoria_produto|        nome_produto|data_compra|ordem_compra|    valor|valor_com_desconto|\n",
      "+-----------+-----------+--------------------+--------------------+-----------+------------+---------+------------------+\n",
      "|          3|          1|          Tecnologia|Notebook Asus Int...| 2021-07-20|           4|36,727.20|         33,054.48|\n",
      "|          3|          3|          Tecnologia|  Smartphone Samsung| 2021-07-18|           3|20,495.00|         20,495.00|\n",
      "|          3|          3|          Tecnologia|  Smartphone Samsung| 2021-04-14|           2|18,445.50|         18,445.50|\n",
      "|          3|          1|          Tecnologia|Notebook Asus Int...| 2021-03-24|           1|18,363.60|         18,363.60|\n",
      "|          6|          8|    Eletrodomesticos| Cafeteira Nespresso| 2021-03-23|           4|   439.14|            395.23|\n",
      "|          6|          9|    Eletrodomesticos|     Microoondas 35L| 2021-01-23|           3| 7,782.00|          7,782.00|\n",
      "|          6|          9|    Eletrodomesticos|     Microoondas 35L| 2020-10-22|           2| 4,280.10|          4,280.10|\n",
      "|          6|          8|    Eletrodomesticos| Cafeteira Nespresso| 2020-05-10|           1| 1,097.85|          1,097.85|\n",
      "|         16|         17|          Tecnologia|Monitor LG 19 pol...| 2021-05-23|           5| 4,672.80|          4,205.52|\n",
      "|         16|          1|          Tecnologia|Notebook Asus Int...| 2021-02-16|           4|41,318.10|         37,186.29|\n",
      "|         16|          3|          Tecnologia|  Smartphone Samsung| 2021-01-13|           3|26,643.50|         26,643.50|\n",
      "|         16|          1|          Tecnologia|Notebook Asus Int...| 2020-12-11|           2|68,863.50|         68,863.50|\n",
      "|         16|          1|          Tecnologia|Notebook Asus Int...| 2020-12-06|           1|32,136.30|         32,136.30|\n",
      "|         17|         18| Produtos de limpeza|Lenço umedecido T...| 2021-07-30|           5|   118.50|            106.65|\n",
      "|         17|         18| Produtos de limpeza|Lenço umedecido T...| 2021-07-21|           4|    94.80|             85.32|\n",
      "|         17|         18| Produtos de limpeza|Lenço umedecido T...| 2021-06-21|           3|    79.00|             79.00|\n",
      "|         17|         18| Produtos de limpeza|Lenço umedecido T...| 2021-06-18|           2|   126.40|            126.40|\n",
      "|         17|         15| Produtos de limpeza|Alcool em Gel 70%...| 2021-05-22|           1|    89.82|             89.82|\n",
      "|         23|          7|    Casa e bem-estar|Ar-condicionado 9...| 2020-07-08|           4|24,709.31|         22,238.38|\n",
      "|         23|         12|    Casa e bem-estar|Umidificador de A...| 2019-12-05|           3| 1,317.50|          1,317.50|\n",
      "|         23|         12|    Casa e bem-estar|Umidificador de A...| 2019-10-07|           2|   465.00|            465.00|\n",
      "|         23|         12|    Casa e bem-estar|Umidificador de A...| 2019-09-19|           1|   697.50|            697.50|\n",
      "|         34|          6|    Casa e bem-estar|      Sofa 3 lugares| 2021-07-28|           4| 2,699.70|          2,429.73|\n",
      "|         34|          7|    Casa e bem-estar|Ar-condicionado 9...| 2021-06-05|           3|19,507.35|         19,507.35|\n",
      "|         34|          6|    Casa e bem-estar|      Sofa 3 lugares| 2021-06-01|           2| 8,999.00|          8,999.00|\n",
      "|         34|         12|    Casa e bem-estar|Umidificador de A...| 2021-01-03|           1|   465.00|            465.00|\n",
      "|         37|          6|    Casa e bem-estar|      Sofa 3 lugares| 2021-07-10|           4|   899.90|            809.91|\n",
      "|         37|          7|    Casa e bem-estar|Ar-condicionado 9...| 2020-12-14|           3|15,605.88|         15,605.88|\n",
      "|         37|         12|    Casa e bem-estar|Umidificador de A...| 2020-10-03|           2|   155.00|            155.00|\n",
      "|         37|         12|    Casa e bem-estar|Umidificador de A...| 2020-09-25|           1| 1,007.50|          1,007.50|\n",
      "|         39|          1|          Tecnologia|Notebook Asus Int...| 2020-11-17|           4|50,499.90|         45,449.91|\n",
      "|         39|          1|          Tecnologia|Notebook Asus Int...| 2020-09-25|           3|55,090.80|         55,090.80|\n",
      "|         39|          1|          Tecnologia|Notebook Asus Int...| 2019-12-23|           2|18,363.60|         18,363.60|\n",
      "|         39|         17|          Tecnologia|Monitor LG 19 pol...| 2019-10-22|           1| 5,841.00|          5,841.00|\n",
      "|         41|         15| Produtos de limpeza|Alcool em Gel 70%...| 2020-08-30|           4|    39.92|             35.93|\n",
      "|         41|         18| Produtos de limpeza|Lenço umedecido T...| 2020-05-27|           3|    79.00|             79.00|\n",
      "|         41|         15| Produtos de limpeza|Alcool em Gel 70%...| 2020-02-11|           2|    54.89|             54.89|\n",
      "|         41|         18| Produtos de limpeza|Lenço umedecido T...| 2020-01-23|           1|    86.90|             86.90|\n",
      "|         87|          7|    Casa e bem-estar|Ar-condicionado 9...| 2021-07-27|           4|19,507.35|         17,556.61|\n",
      "|         87|          7|    Casa e bem-estar|Ar-condicionado 9...| 2021-06-28|           3|14,305.39|         14,305.39|\n",
      "|         87|         12|    Casa e bem-estar|Umidificador de A...| 2020-11-28|           2|   310.00|            310.00|\n",
      "|         87|          7|    Casa e bem-estar|Ar-condicionado 9...| 2020-11-10|           1| 5,201.96|          5,201.96|\n",
      "|        101|         18| Produtos de limpeza|Lenço umedecido T...| 2021-06-11|           4|     7.90|              7.11|\n",
      "|        101|         15| Produtos de limpeza|Alcool em Gel 70%...| 2021-03-26|           3|    39.92|             39.92|\n",
      "|        101|         18| Produtos de limpeza|Lenço umedecido T...| 2021-02-22|           2|   142.20|            142.20|\n",
      "|        101|         18| Produtos de limpeza|Lenço umedecido T...| 2021-01-12|           1|    47.40|             47.40|\n",
      "|        106|          5|Material de escri...|   Escrivaninha em L| 2020-10-16|           4| 6,555.00|          5,899.50|\n",
      "|        106|          5|Material de escri...|   Escrivaninha em L| 2019-12-11|           3| 3,059.00|          3,059.00|\n",
      "|        106|         10|Material de escri...|Cadeira Gamer Xpress| 2019-06-02|           2|12,598.20|         12,598.20|\n",
      "|        106|         10|Material de escri...|Cadeira Gamer Xpress| 2019-04-05|           1| 5,599.20|          5,599.20|\n",
      "+-----------+-----------+--------------------+--------------------+-----------+------------+---------+------------------+\n",
      "only showing top 50 rows\n",
      "\n"
     ]
    }
   ],
   "source": [
    "from pyspark.sql.functions import asc, col, date_format, dense_rank, desc, format_number, when\n",
    "\n",
    "from pyspark.sql.window import Window\n",
    "\n",
    "df_vendas = spark.read.table(\"vendas\")\n",
    "df_produtos = spark.read.table(\"produtos\")\n",
    "\n",
    "df_vendas_por_categoria = df_vendas.join(\n",
    "    df_produtos, df_vendas.cod_produto == df_produtos.cod_produto, \"inner\"\n",
    ")\n",
    "\n",
    "df_vendas_por_categoria = df_vendas_por_categoria[\n",
    "    \"cod_usuario\",\n",
    "    \"produtos.cod_produto\",\n",
    "    \"nome_produto\",\n",
    "    \"categoria_produto\",\n",
    "    \"data_compra\",\n",
    "    \"quantidade\",\n",
    "    \"valor\",\n",
    "]\n",
    "\n",
    "window_spec = Window.partitionBy(\"cod_usuario\", \"categoria_produto\").orderBy(\n",
    "    \"data_compra\"\n",
    ")\n",
    "\n",
    "df_vendas_por_categoria = df_vendas_por_categoria.select(\n",
    "    \"cod_usuario\",\n",
    "    \"cod_produto\",\n",
    "    \"nome_produto\",\n",
    "    \"categoria_produto\",\n",
    "    \"data_compra\",\n",
    "    \"quantidade\",\n",
    "    \"valor\",\n",
    "    dense_rank().over(window_spec).alias(\"ordem_compra\"),\n",
    ")\n",
    "\n",
    "\n",
    "df_vendas_por_categoria = df_vendas_por_categoria.withColumn(\n",
    "    \"valor_com_desconto\",\n",
    "    when(df_vendas_por_categoria.ordem_compra > 3, col(\"valor\") * 0.9).otherwise(\n",
    "        col(\"valor\")\n",
    "    ),\n",
    ")\n",
    "\n",
    "\n",
    "df_vendas_por_categoria = df_vendas_por_categoria.withColumn(\n",
    "    \"valor\", format_number(\"valor\", 2)\n",
    ")\n",
    "\n",
    "df_vendas_por_categoria = df_vendas_por_categoria.withColumn(\n",
    "    \"valor_com_desconto\", format_number(\"valor_com_desconto\", 2)\n",
    ")\n",
    "\n",
    "\n",
    "df_usuarios_a_exibir = df_vendas_por_categoria[[\"cod_usuario\", \"categoria_produto\"]].filter(col(\"ordem_compra\") > 3).dropDuplicates()\n",
    "\n",
    "df_usuarios_a_exibir = df_usuarios_a_exibir.withColumnRenamed(\"cod_usuario\", \"cod_usuario_a_exibir\")\n",
    "df_usuarios_a_exibir = df_usuarios_a_exibir.withColumnRenamed(\"categoria_produto\", \"categoria_produto_a_exibir\")\n",
    "\n",
    "\n",
    "df_resposta = df_vendas_por_categoria.join(df_usuarios_a_exibir\n",
    "                                           , (df_vendas_por_categoria.cod_usuario == df_usuarios_a_exibir.cod_usuario_a_exibir) &\n",
    "                                           (df_vendas_por_categoria.categoria_produto == df_usuarios_a_exibir.categoria_produto_a_exibir) \n",
    "                                           , \"inner\")\n",
    "\n",
    "\n",
    "df_resposta = df_resposta[\"cod_usuario\"\n",
    "                        , \"produtos.cod_produto\"\n",
    "                        , \"produtos.categoria_produto\"\n",
    "                        , \"produtos.nome_produto\"\n",
    "                        , \"data_compra\"\n",
    "                        , \"ordem_compra\"\n",
    "                        , \"valor\"\n",
    "                        , \"valor_com_desconto\"\n",
    "                        ,]\n",
    "\n",
    "df_resposta = df_resposta.withColumn(\"data_compra\", date_format(\"data_compra\", \"yyyy-MM-dd\"))\n",
    "\n",
    "df_resposta = df_resposta.orderBy(\n",
    "     asc(\"cod_usuario\"), asc(\"categoria_produto\"), desc(\"ordem_compra\")\n",
    ")\n",
    "\n",
    "\n",
    "df_resposta.show( n= 50)"
   ]
  },
  {
   "cell_type": "markdown",
   "metadata": {
    "id": "ndROlUqgMHxn"
   },
   "source": [
    "# FIM!"
   ]
  }
 ],
 "metadata": {
  "colab": {
   "collapsed_sections": [],
   "name": "Teste Engenharia de Dados v2_2 - modelo.ipynb",
   "provenance": []
  },
  "kernelspec": {
   "display_name": "Python 3 (ipykernel)",
   "language": "python",
   "name": "python3"
  },
  "language_info": {
   "codemirror_mode": {
    "name": "ipython",
    "version": 3
   },
   "file_extension": ".py",
   "mimetype": "text/x-python",
   "name": "python",
   "nbconvert_exporter": "python",
   "pygments_lexer": "ipython3",
   "version": "3.10.9"
  }
 },
 "nbformat": 4,
 "nbformat_minor": 1
}
